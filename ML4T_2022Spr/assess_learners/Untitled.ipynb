{
 "cells": [
  {
   "cell_type": "code",
   "execution_count": 2,
   "metadata": {},
   "outputs": [],
   "source": [
    "import numpy as np"
   ]
  },
  {
   "cell_type": "code",
   "execution_count": 22,
   "metadata": {},
   "outputs": [],
   "source": [
    "a = np.array([[1, 2, 3, 4, 5],\n",
    "                [6, 0, 1, 10, 1]])\n",
    "\n",
    "b = np.array([1, 4])"
   ]
  },
  {
   "cell_type": "code",
   "execution_count": 23,
   "metadata": {},
   "outputs": [
    {
     "name": "stdout",
     "output_type": "stream",
     "text": [
      "(6, 6)\n",
      "[[ 1. -1. -1.  1. -1.  1.]\n",
      " [-1.  1.  1. -1.  1. -1.]\n",
      " [-1.  1.  1. -1.  1. -1.]\n",
      " [ 1. -1. -1.  1. -1.  1.]\n",
      " [-1.  1.  1. -1.  1. -1.]\n",
      " [ 1. -1. -1.  1. -1.  1.]]\n",
      "------------------\n",
      "[1. 1. 1. 1. 1. 1.]\n"
     ]
    }
   ],
   "source": [
    "corr = np.corrcoef(a, b, rowvar=False)\n",
    "\n",
    "print(corr.shape)\n",
    "print(corr)\n",
    "print('------------------')\n",
    "print(np.abs(corr[0, :]))"
   ]
  },
  {
   "cell_type": "code",
   "execution_count": 24,
   "metadata": {},
   "outputs": [
    {
     "name": "stdout",
     "output_type": "stream",
     "text": [
      "[[ 6  0  1 10  1]]\n"
     ]
    }
   ],
   "source": [
    "i = 4\n",
    "\n",
    "a = a[a[:, i] <= 4]\n",
    "print(a)"
   ]
  },
  {
   "cell_type": "code",
   "execution_count": 117,
   "metadata": {},
   "outputs": [
    {
     "name": "stdout",
     "output_type": "stream",
     "text": [
      "(5,)\n",
      "(3, 5)\n",
      "---------------------------\n",
      "[[ 1  1  1  1  1]\n",
      " [ 1  2  3  4  5]\n",
      " [ 6  7  8  9 10]\n",
      " [ 1  1  1  1  1]]\n"
     ]
    }
   ],
   "source": [
    "root = np.array([1, 1, 1, 1, 1])\n",
    "print(root.shape)\n",
    "left = np.array([1, 2, 3, 4, 5])\n",
    "right = np.array([6, 7, 8, 9, 10])\n",
    "#test = \n",
    "\n",
    "joined = np.vstack((root, left, right))\n",
    "print(joined.shape)\n",
    "print(\"---------------------------\")\n",
    "joined2 = np.vstack((joined, root))\n",
    "print(joined2)"
   ]
  },
  {
   "cell_type": "code",
   "execution_count": 66,
   "metadata": {
    "scrolled": true
   },
   "outputs": [
    {
     "name": "stdout",
     "output_type": "stream",
     "text": [
      "(1, 3)\n",
      "2.0\n"
     ]
    }
   ],
   "source": [
    "root_T = np.array([[1], [2], [3]])\n",
    "print(root_T.T.shape)\n",
    "print(np.median(root_T.T))"
   ]
  },
  {
   "cell_type": "code",
   "execution_count": 69,
   "metadata": {},
   "outputs": [
    {
     "name": "stdout",
     "output_type": "stream",
     "text": [
      "(536, 8)\n"
     ]
    }
   ],
   "source": [
    "import pandas as pd\n",
    "data = pd.read_csv('Data/Istanbul.csv')\n",
    "data = data.values[:, 1:-1].astype('float64')\n",
    "print(data.shape)"
   ]
  },
  {
   "cell_type": "code",
   "execution_count": 51,
   "metadata": {},
   "outputs": [
    {
     "name": "stdout",
     "output_type": "stream",
     "text": [
      "<_io.TextIOWrapper name='/Users/nickdinapoli/Documents/Georgia_Tech/CS_7646/ML4T_2022Spr/assess_learners/Data/Istanbul.csv' mode='r' encoding='UTF-8'>\n",
      "5-Jan-09,0.035753708,0.038376187,-0.004679315,0.002193419,0.003894376,0,0.031190229,0.012698039,0.028524462\n",
      "\n",
      "[]\n"
     ]
    }
   ],
   "source": [
    "inf = open(\"/Users/nickdinapoli/Documents/Georgia_Tech/CS_7646/ML4T_2022Spr/assess_learners/Data/Istanbul.csv\")\n",
    "print(inf)\n",
    "#for s in inf.readlines()[1:]:\n",
    "    #print(s)\n",
    "    \n",
    "print(inf.readlines()[1])\n",
    "data = np.array([list(map(float, s.strip().split(\",\"))) for s in inf.readlines()[1:]])\n",
    "#data = data[:, 1:]\n",
    "print(data)"
   ]
  },
  {
   "cell_type": "code",
   "execution_count": 77,
   "metadata": {},
   "outputs": [
    {
     "name": "stdout",
     "output_type": "stream",
     "text": [
      "0.002188758\n",
      "[[-0.02886173 -0.02635297 -0.03046913 ...  0.01729293 -0.03589858\n",
      "  -0.0170728 ]\n",
      " [-0.06220808 -0.0847159   0.00339136 ... -0.04006131  0.02828315\n",
      "  -0.00556096]\n",
      " [-0.02919103 -0.04236115 -0.02282263 ... -0.04903853 -0.05384947\n",
      "  -0.01245126]\n",
      " ...\n",
      " [ 0.00019097 -0.0016526   0.00192291 ...  0.00056828  0.00562792\n",
      "   0.00057157]\n",
      " [-0.01306904 -0.01370599 -0.02074215 ...  0.00135758 -0.01194168\n",
      "  -0.01261533]\n",
      " [-0.00724632 -0.01944185  0.         ... -0.01791963 -0.01225155\n",
      "  -0.00546489]]\n",
      "536 268\n"
     ]
    }
   ],
   "source": [
    "# print(data)\n",
    "i = 0\n",
    "print(np.median(data[:, i]))\n",
    "SplitVal = 0.002188758\n",
    "\n",
    "lefttree = data[data[:, i] <= SplitVal]\n",
    "\n",
    "print(lefttree)\n",
    "print(data.shape[0],lefttree.shape[0])"
   ]
  },
  {
   "cell_type": "code",
   "execution_count": 101,
   "metadata": {},
   "outputs": [
    {
     "name": "stdout",
     "output_type": "stream",
     "text": [
      "(268,) (268,)\n",
      "[  2   3   5   7   8  10  11  12  13  16  18  19  20  23  26  27  28  30\n",
      "  31  32  34  36  38  39  40  43  45  47  50  51  52  58  60  64  65  66\n",
      "  70  71  74  75  79  80  86  87  88  90  95  98 100 101 103 104 105 107\n",
      " 112 113 114 117 118 125 126 127 129 130 131 133 136 138 148 149 150 152\n",
      " 153 156 157 158 164 167 169 171 173 174 177 178 184 187 188 189 192 196\n",
      " 198 199 203 205 206 207 208 210 212 213 217 218 220 221 222 223 225 226\n",
      " 231 232 233 235 239 243 246 248 254 255 256 258 259 263 264 266 267 269\n",
      " 271 272 273 274 275 277 279 283 285 286 287 288 293 296 297 298 299 300\n",
      " 303 304 309 310 311 312 316 318 320 321 323 324 325 327 328 330 331 334\n",
      " 335 336 337 338 340 342 343 346 347 349 353 354 357 358 359 365 369 370\n",
      " 371 372 374 375 376 378 380 382 385 386 387 389 392 395 397 399 400 401\n",
      " 404 405 407 410 411 412 414 415 421 422 423 424 429 431 433 434 437 439\n",
      " 443 448 451 452 455 456 457 459 460 462 465 466 467 469 470 472 473 474\n",
      " 478 481 482 483 485 486 487 488 489 493 494 495 497 498 503 504 505 508\n",
      " 509 510 511 512 514 515 517 518 519 522 524 527 529 533 534 535] [  0   1   4   6   9  14  15  17  21  22  24  25  29  33  35  37  41  42\n",
      "  44  46  48  49  53  54  55  56  57  59  61  62  63  67  68  69  72  73\n",
      "  76  77  78  81  82  83  84  85  89  91  92  93  94  96  97  99 102 106\n",
      " 108 109 110 111 115 116 119 120 121 122 123 124 128 132 134 135 137 139\n",
      " 140 141 142 143 144 145 146 147 151 154 155 159 160 161 162 163 165 166\n",
      " 168 170 172 175 176 179 180 181 182 183 185 186 190 191 193 194 195 197\n",
      " 200 201 202 204 209 211 214 215 216 219 224 227 228 229 230 234 236 237\n",
      " 238 240 241 242 244 245 247 249 250 251 252 253 257 260 261 262 265 268\n",
      " 270 276 278 280 281 282 284 289 290 291 292 294 295 301 302 305 306 307\n",
      " 308 313 314 315 317 319 322 326 329 332 333 339 341 344 345 348 350 351\n",
      " 352 355 356 360 361 362 363 364 366 367 368 373 377 379 381 383 384 388\n",
      " 390 391 393 394 396 398 402 403 406 408 409 413 416 417 418 419 420 425\n",
      " 426 427 428 430 432 435 436 438 440 441 442 444 445 446 447 449 450 453\n",
      " 454 458 461 463 464 468 471 475 476 477 479 480 484 490 491 492 496 499\n",
      " 500 501 502 506 507 513 516 520 521 523 525 526 528 530 531 532]\n"
     ]
    }
   ],
   "source": [
    "inds_L = np.where(data[:, i] <= SplitVal)[0]\n",
    "inds_R = np.where(data[:, i] > SplitVal)[0]\n",
    "#print(inds_L[0])\n",
    "print(inds_L.shape, inds_R.shape)\n",
    "print(inds_L, inds_R)"
   ]
  },
  {
   "cell_type": "code",
   "execution_count": 121,
   "metadata": {},
   "outputs": [
    {
     "name": "stdout",
     "output_type": "stream",
     "text": [
      "[[1]\n",
      " [1]\n",
      " [1]]\n",
      "True\n"
     ]
    }
   ],
   "source": [
    "data_y = np.array([[1], [1], [1]])\n",
    "print(data_y)\n",
    "print(np.all(data_y == data_y[0]))"
   ]
  },
  {
   "cell_type": "code",
   "execution_count": 125,
   "metadata": {},
   "outputs": [
    {
     "data": {
      "text/plain": [
       "2"
      ]
     },
     "execution_count": 125,
     "metadata": {},
     "output_type": "execute_result"
    }
   ],
   "source": [
    "len(data.shape)"
   ]
  },
  {
   "cell_type": "code",
   "execution_count": 130,
   "metadata": {},
   "outputs": [
    {
     "name": "stdout",
     "output_type": "stream",
     "text": [
      "(0,)\n"
     ]
    }
   ],
   "source": [
    "test = np.array([])\n",
    "print(test.shape)"
   ]
  },
  {
   "cell_type": "code",
   "execution_count": 133,
   "metadata": {},
   "outputs": [
    {
     "name": "stdout",
     "output_type": "stream",
     "text": [
      "536\n"
     ]
    }
   ],
   "source": [
    "print(data.shape[0])\n",
    "n = data.shape[0]"
   ]
  },
  {
   "cell_type": "code",
   "execution_count": 136,
   "metadata": {},
   "outputs": [
    {
     "name": "stdout",
     "output_type": "stream",
     "text": [
      "(536, 8)\n"
     ]
    }
   ],
   "source": [
    "#print(np.random.randint(n, size=n))\n",
    "inds = np.random.randint(n, size=n)\n",
    "#print(data[inds].shape)"
   ]
  },
  {
   "cell_type": "code",
   "execution_count": 139,
   "metadata": {},
   "outputs": [
    {
     "name": "stdout",
     "output_type": "stream",
     "text": [
      "[0.65551897 0.69076122 0.68754981 0.93639305 0.94896336 0.28375011\n",
      " 0.62170413]\n",
      "4\n"
     ]
    }
   ],
   "source": [
    "corr = corr = np.abs(np.corrcoef(data[:,:-1], data[:, -1], rowvar=False)[-1, :-1])\n",
    "\n",
    "print(corr)\n",
    "\n",
    "i = np.argmax(corr)\n",
    "print(i)"
   ]
  },
  {
   "cell_type": "code",
   "execution_count": 142,
   "metadata": {},
   "outputs": [
    {
     "ename": "ValueError",
     "evalue": "math domain error",
     "output_type": "error",
     "traceback": [
      "\u001b[0;31m---------------------------------------------------------------------------\u001b[0m",
      "\u001b[0;31mValueError\u001b[0m                                Traceback (most recent call last)",
      "\u001b[0;32m<ipython-input-142-8956a835fc63>\u001b[0m in \u001b[0;36m<module>\u001b[0;34m\u001b[0m\n\u001b[1;32m      1\u001b[0m \u001b[0;32mimport\u001b[0m \u001b[0mmath\u001b[0m\u001b[0;34m\u001b[0m\u001b[0;34m\u001b[0m\u001b[0m\n\u001b[0;32m----> 2\u001b[0;31m \u001b[0mmath\u001b[0m\u001b[0;34m.\u001b[0m\u001b[0msqrt\u001b[0m\u001b[0;34m(\u001b[0m\u001b[0;34m-\u001b[0m\u001b[0;36m1\u001b[0m\u001b[0;34m)\u001b[0m\u001b[0;34m\u001b[0m\u001b[0;34m\u001b[0m\u001b[0m\n\u001b[0m",
      "\u001b[0;31mValueError\u001b[0m: math domain error"
     ]
    }
   ],
   "source": [
    "import math\n",
    "math.sqrt()"
   ]
  },
  {
   "cell_type": "code",
   "execution_count": null,
   "metadata": {},
   "outputs": [],
   "source": []
  }
 ],
 "metadata": {
  "kernelspec": {
   "display_name": "Python 3",
   "language": "python",
   "name": "python3"
  },
  "language_info": {
   "codemirror_mode": {
    "name": "ipython",
    "version": 3
   },
   "file_extension": ".py",
   "mimetype": "text/x-python",
   "name": "python",
   "nbconvert_exporter": "python",
   "pygments_lexer": "ipython3",
   "version": "3.7.4"
  }
 },
 "nbformat": 4,
 "nbformat_minor": 2
}
