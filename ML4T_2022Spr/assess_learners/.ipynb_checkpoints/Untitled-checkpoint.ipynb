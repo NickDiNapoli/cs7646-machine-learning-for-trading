{
 "cells": [
  {
   "cell_type": "code",
   "execution_count": 2,
   "metadata": {},
   "outputs": [],
   "source": [
    "import numpy as np"
   ]
  },
  {
   "cell_type": "code",
   "execution_count": 22,
   "metadata": {},
   "outputs": [],
   "source": [
    "a = np.array([[1, 2, 3, 4, 5],\n",
    "                [6, 0, 1, 10, 1]])\n",
    "\n",
    "b = np.array([1, 4])"
   ]
  },
  {
   "cell_type": "code",
   "execution_count": 23,
   "metadata": {},
   "outputs": [
    {
     "name": "stdout",
     "output_type": "stream",
     "text": [
      "(6, 6)\n",
      "[[ 1. -1. -1.  1. -1.  1.]\n",
      " [-1.  1.  1. -1.  1. -1.]\n",
      " [-1.  1.  1. -1.  1. -1.]\n",
      " [ 1. -1. -1.  1. -1.  1.]\n",
      " [-1.  1.  1. -1.  1. -1.]\n",
      " [ 1. -1. -1.  1. -1.  1.]]\n",
      "------------------\n",
      "[1. 1. 1. 1. 1. 1.]\n"
     ]
    }
   ],
   "source": [
    "corr = np.corrcoef(a, b, rowvar=False)\n",
    "\n",
    "print(corr.shape)\n",
    "print(corr)\n",
    "print('------------------')\n",
    "print(np.abs(corr[0, :]))"
   ]
  },
  {
   "cell_type": "code",
   "execution_count": 24,
   "metadata": {},
   "outputs": [
    {
     "name": "stdout",
     "output_type": "stream",
     "text": [
      "[[ 6  0  1 10  1]]\n"
     ]
    }
   ],
   "source": [
    "i = 4\n",
    "\n",
    "a = a[a[:, i] <= 4]\n",
    "print(a)"
   ]
  },
  {
   "cell_type": "code",
   "execution_count": 29,
   "metadata": {},
   "outputs": [
    {
     "name": "stdout",
     "output_type": "stream",
     "text": [
      "[[ 1  1  1  1  1]\n",
      " [ 1  2  3  4  5]\n",
      " [ 6  7  8  9 10]]\n"
     ]
    }
   ],
   "source": [
    "root = np.array([1, 1, 1, 1, 1])\n",
    "left = np.array([1, 2, 3, 4, 5])\n",
    "right = np.array([6, 7, 8, 9, 10])\n",
    "\n",
    "joined = np.stack((root, left, right))\n",
    "print(joined)"
   ]
  },
  {
   "cell_type": "code",
   "execution_count": 66,
   "metadata": {
    "scrolled": true
   },
   "outputs": [
    {
     "name": "stdout",
     "output_type": "stream",
     "text": [
      "(1, 3)\n",
      "2.0\n"
     ]
    }
   ],
   "source": [
    "root_T = np.array([[1], [2], [3]])\n",
    "print(root_T.T.shape)\n",
    "print(np.median(root_T.T))"
   ]
  },
  {
   "cell_type": "code",
   "execution_count": 69,
   "metadata": {},
   "outputs": [
    {
     "name": "stdout",
     "output_type": "stream",
     "text": [
      "(536, 8)\n"
     ]
    }
   ],
   "source": [
    "import pandas as pd\n",
    "data = pd.read_csv('Data/Istanbul.csv')\n",
    "data = data.values[:, 1:-1].astype('float64')\n",
    "print(data.shape)"
   ]
  },
  {
   "cell_type": "code",
   "execution_count": 51,
   "metadata": {},
   "outputs": [
    {
     "name": "stdout",
     "output_type": "stream",
     "text": [
      "<_io.TextIOWrapper name='/Users/nickdinapoli/Documents/Georgia_Tech/CS_7646/ML4T_2022Spr/assess_learners/Data/Istanbul.csv' mode='r' encoding='UTF-8'>\n",
      "5-Jan-09,0.035753708,0.038376187,-0.004679315,0.002193419,0.003894376,0,0.031190229,0.012698039,0.028524462\n",
      "\n",
      "[]\n"
     ]
    }
   ],
   "source": [
    "inf = open(\"/Users/nickdinapoli/Documents/Georgia_Tech/CS_7646/ML4T_2022Spr/assess_learners/Data/Istanbul.csv\")\n",
    "print(inf)\n",
    "#for s in inf.readlines()[1:]:\n",
    "    #print(s)\n",
    "    \n",
    "print(inf.readlines()[1])\n",
    "data = np.array([list(map(float, s.strip().split(\",\"))) for s in inf.readlines()[1:]])\n",
    "#data = data[:, 1:]\n",
    "print(data)"
   ]
  },
  {
   "cell_type": "code",
   "execution_count": 74,
   "metadata": {},
   "outputs": [
    {
     "name": "stdout",
     "output_type": "stream",
     "text": [
      "[[ 0.03575371  0.03837619 -0.00467931 ...  0.          0.03119023\n",
      "   0.01269804]\n",
      " [ 0.02542587  0.03181274  0.00778674 ...  0.00416245  0.01891958\n",
      "   0.01134065]\n",
      " [-0.02886173 -0.02635297 -0.03046913 ...  0.01729293 -0.03589858\n",
      "  -0.0170728 ]\n",
      " ...\n",
      " [ 0.00019097 -0.0016526   0.00192291 ...  0.00056828  0.00562792\n",
      "   0.00057157]\n",
      " [-0.01306904 -0.01370599 -0.02074215 ...  0.00135758 -0.01194168\n",
      "  -0.01261533]\n",
      " [-0.00724632 -0.01944185  0.         ... -0.01791963 -0.01225155\n",
      "  -0.00546489]]\n",
      "0.002188758\n",
      "(array([  0,   0,   0, ..., 267, 267, 267]), array([0, 1, 2, ..., 5, 6, 7]))\n"
     ]
    }
   ],
   "source": [
    "# print(data)\n",
    "i = 0\n",
    "print(np.median(data[:, i]))\n",
    "SplitVal = 0.002188758\n",
    "\n",
    "inds_L = np.where(data[data[:, i] <= SplitVal])\n",
    "\n",
    "print(inds_L)"
   ]
  },
  {
   "cell_type": "code",
   "execution_count": null,
   "metadata": {},
   "outputs": [],
   "source": []
  }
 ],
 "metadata": {
  "kernelspec": {
   "display_name": "Python 3",
   "language": "python",
   "name": "python3"
  },
  "language_info": {
   "codemirror_mode": {
    "name": "ipython",
    "version": 3
   },
   "file_extension": ".py",
   "mimetype": "text/x-python",
   "name": "python",
   "nbconvert_exporter": "python",
   "pygments_lexer": "ipython3",
   "version": "3.7.4"
  }
 },
 "nbformat": 4,
 "nbformat_minor": 2
}
