{
 "cells": [
  {
   "cell_type": "code",
   "execution_count": 2,
   "metadata": {},
   "outputs": [],
   "source": [
    "import pandas as pd \n",
    "import datetime as dt"
   ]
  },
  {
   "cell_type": "code",
   "execution_count": 8,
   "metadata": {},
   "outputs": [
    {
     "name": "stdout",
     "output_type": "stream",
     "text": [
      "        Date Symbol Order  Shares\n",
      "0 2011-01-20   AAPL   BUY    1500\n",
      "1 2011-01-05   AAPL  SELL    1500\n"
     ]
    }
   ],
   "source": [
    "d = {'Date': [dt.datetime(2011, 1, 20), dt.datetime(2011, 1, 5)],\n",
    "         'Symbol': ['AAPL', 'AAPL'],\n",
    "         'Order': ['BUY', 'SELL'],\n",
    "         'Shares': [1500, 1500]}\n",
    "\n",
    "orders_df = pd.DataFrame(data=d)\n",
    "print(orders_df)"
   ]
  },
  {
   "cell_type": "code",
   "execution_count": 4,
   "metadata": {},
   "outputs": [
    {
     "data": {
      "text/plain": [
       "Timestamp('2011-01-20 00:00:00')"
      ]
     },
     "execution_count": 4,
     "metadata": {},
     "output_type": "execute_result"
    }
   ],
   "source": [
    "orders_df['Date'].iloc[-1]"
   ]
  },
  {
   "cell_type": "code",
   "execution_count": 9,
   "metadata": {},
   "outputs": [
    {
     "name": "stdout",
     "output_type": "stream",
     "text": [
      "        Date Symbol Order  Shares\n",
      "1 2011-01-05   AAPL  SELL    1500\n",
      "0 2011-01-20   AAPL   BUY    1500\n"
     ]
    }
   ],
   "source": [
    "orders_df = orders_df.sort_values(by=\"Date\")\n",
    "print(orders_df)"
   ]
  },
  {
   "cell_type": "code",
   "execution_count": 10,
   "metadata": {},
   "outputs": [
    {
     "name": "stdout",
     "output_type": "stream",
     "text": [
      "   index       Date Symbol Order  Shares\n",
      "0      1 2011-01-05   AAPL  SELL    1500\n",
      "1      0 2011-01-20   AAPL   BUY    1500\n"
     ]
    }
   ],
   "source": [
    "orders_df = orders_df.reset_index()\n",
    "print(orders_df)"
   ]
  },
  {
   "cell_type": "code",
   "execution_count": 11,
   "metadata": {},
   "outputs": [
    {
     "name": "stdout",
     "output_type": "stream",
     "text": [
      "AAPL\n",
      "AAPL\n"
     ]
    }
   ],
   "source": [
    "for sym in orders_df['Symbol']:\n",
    "    print(sym)"
   ]
  },
  {
   "cell_type": "code",
   "execution_count": 12,
   "metadata": {},
   "outputs": [
    {
     "data": {
      "text/plain": [
       "2"
      ]
     },
     "execution_count": 12,
     "metadata": {},
     "output_type": "execute_result"
    }
   ],
   "source": [
    "orders_df.shape[0]"
   ]
  },
  {
   "cell_type": "code",
   "execution_count": 14,
   "metadata": {},
   "outputs": [
    {
     "data": {
      "text/plain": [
       "array([0, 1])"
      ]
     },
     "execution_count": 14,
     "metadata": {},
     "output_type": "execute_result"
    }
   ],
   "source": [
    "orders_df.index.values"
   ]
  },
  {
   "cell_type": "code",
   "execution_count": null,
   "metadata": {},
   "outputs": [],
   "source": [
    "df_trades = pd.DataFrame(np.zeros(shape=(orders_df.shape[0], df_prices.shape[1])),\n",
    "                                        columns=df_prices.columns)#, index=df_prices.index)"
   ]
  },
  {
   "cell_type": "code",
   "execution_count": null,
   "metadata": {},
   "outputs": [],
   "source": [
    "    for index, row in orders_df.iterrows():\n",
    "        # print(index)\n",
    "        if row['Order'] == 'BUY':\n",
    "            # print(df_trades[row['Symbol']])\n",
    "            df_trades[row['Symbol']].iloc[index] = row['Shares']\n",
    "            # print(-row['Shares'] * df_prices.loc[row['Date'], row['Symbol']])\n",
    "            df_trades['Cash'].iloc[index] = -row['Shares'] * df_prices.loc[row['Date'], row['Symbol']]\n",
    "\n",
    "        if row['Order'] == 'SELL':\n",
    "            df_trades[row['Symbol']].iloc[index] = -row['Shares']\n",
    "            df_trades['Cash'].iloc[index] = row['Shares'] * df_prices.loc[row['Date'], row['Symbol']]"
   ]
  },
  {
   "cell_type": "code",
   "execution_count": 20,
   "metadata": {},
   "outputs": [
    {
     "name": "stdout",
     "output_type": "stream",
     "text": [
      "[[0.15610777 0.97213127]\n",
      " [1.         1.        ]\n",
      " [0.26263092 0.17472995]]\n"
     ]
    }
   ],
   "source": [
    "import numpy as np\n",
    "a = np.random.uniform(size=(3,2))\n",
    "#print(a[1,:])\n",
    "b = a/a[1,:]\n",
    "\n",
    "print(b)"
   ]
  },
  {
   "cell_type": "code",
   "execution_count": 22,
   "metadata": {},
   "outputs": [
    {
     "data": {
      "text/plain": [
       "array([2, 2, 2, 2])"
      ]
     },
     "execution_count": 22,
     "metadata": {},
     "output_type": "execute_result"
    }
   ],
   "source": [
    "np.array([2]*4)\n"
   ]
  },
  {
   "cell_type": "code",
   "execution_count": 24,
   "metadata": {},
   "outputs": [
    {
     "name": "stdout",
     "output_type": "stream",
     "text": [
      "[[0.5 1.  1.5]\n",
      " [2.5 3.  3.5]]\n",
      "9.0\n"
     ]
    }
   ],
   "source": [
    "x = np.array([[1,2,3],[5,6,7]], dtype='int')\n",
    "y = np.array(x/2)\n",
    "print(y)\n",
    "print (y.sum(axis=1)[-1])"
   ]
  },
  {
   "cell_type": "code",
   "execution_count": null,
   "metadata": {},
   "outputs": [],
   "source": []
  }
 ],
 "metadata": {
  "kernelspec": {
   "display_name": "Python 3",
   "language": "python",
   "name": "python3"
  },
  "language_info": {
   "codemirror_mode": {
    "name": "ipython",
    "version": 3
   },
   "file_extension": ".py",
   "mimetype": "text/x-python",
   "name": "python",
   "nbconvert_exporter": "python",
   "pygments_lexer": "ipython3",
   "version": "3.7.4"
  }
 },
 "nbformat": 4,
 "nbformat_minor": 2
}
